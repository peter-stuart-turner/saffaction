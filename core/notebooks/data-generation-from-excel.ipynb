{
 "cells": [
  {
   "cell_type": "code",
   "execution_count": 71,
   "metadata": {},
   "outputs": [],
   "source": [
    "import pandas as pd"
   ]
  },
  {
   "cell_type": "code",
   "execution_count": 72,
   "metadata": {},
   "outputs": [],
   "source": [
    "df = pd.read_excel('mindmap-v3.xlsx', sheet_name='solutions')"
   ]
  },
  {
   "cell_type": "code",
   "execution_count": 113,
   "metadata": {},
   "outputs": [],
   "source": [
    "def find_category(i, row):\n",
    "    if pd.isna(row['ProblemCategory']) or pd.isnull(row['ProblemCategory']):\n",
    "        for i in range(i,0,-1):\n",
    "            if not pd.isna(df.iloc[i]['ProblemCategory']):\n",
    "                return df.iloc[i]['ProblemCategory']\n",
    "    else: \n",
    "        return row['ProblemCategory']\n",
    "\n",
    "def find_problem(df, i):\n",
    "    row = df.iloc[i]\n",
    "    if pd.isna(row['Problem']) or pd.isnull(row['Problem']):\n",
    "        for i in range(i,0,-1):\n",
    "            if not pd.isna(df.iloc[i]['Problem']):\n",
    "                return df.iloc[i]['Problem']\n",
    "    else: \n",
    "        return row['Problem']\n",
    "\n",
    "def find_problems_for_category(df, category_name):\n",
    "    problems = []\n",
    "    for i, row in df.iterrows():\n",
    "        if row['ProblemCategory']==category_name:\n",
    "            if find_problem(df, i) not in problems:\n",
    "                problems.append(find_problem(df, i))\n",
    "    return problems\n",
    "\n",
    "def find_solutions_for_problem(df, problem):\n",
    "    solutions = []\n",
    "    for i, row in df.iterrows():\n",
    "        if find_problem(df, i) == problem:\n",
    "            if not pd.isna(row['Solution(s)']):\n",
    "                if row['Solution(s)'] not in solutions:\n",
    "                    solutions.append(row['Solution(s)'])\n",
    "    return solutions\n",
    "\n",
    "def find_problem_category_links(df, entries, problem_category):\n",
    "    links = []\n",
    "    problems = find_problems_for_category(df, problem_category)\n",
    "    for p in entries['problems']:\n",
    "        if p.get('text') in problems:\n",
    "            links.append(p.get('id'))\n",
    "    return links\n",
    "\n",
    "def find_problem_links(df, entries, problem):\n",
    "    links = []\n",
    "    solutions = find_solutions_for_problem(df, problem)\n",
    "    for s in entries.get('solutions'):\n",
    "        if s.get('text') in solutions:\n",
    "            links.append(s.get('id'))\n",
    "    return links"
   ]
  },
  {
   "cell_type": "code",
   "execution_count": 115,
   "metadata": {},
   "outputs": [],
   "source": [
    "def create_entries(df):\n",
    "    problem_categories = []\n",
    "    problems = []\n",
    "    solutions = []\n",
    "    for pc in df['ProblemCategory'].unique():\n",
    "        if not pd.isna(pc) and not pd.isnull(pc):\n",
    "            problem_categories.append(pc)\n",
    "            \n",
    "    for i, row in df.iterrows():\n",
    "        if not pd.isna(row['Problem']) and not pd.isnull(row['Problem']):\n",
    "            if row['Problem'] not in problems:\n",
    "                problems.append(row['Problem'])\n",
    "        else:\n",
    "            if find_problem(df, i) not in problems:\n",
    "                problems.append(find_problem(df, i))\n",
    "    for i, row in df.iterrows():\n",
    "        if not pd.isna(row['Solution(s)']) and not pd.isnull(row['Solution(s)']):\n",
    "            if row['Solution(s)'] not in  solutions:\n",
    "                solutions.append(row['Solution(s)'])\n",
    "            else:\n",
    "                # TODO \n",
    "                pass\n",
    "    data = {\n",
    "        'problem_categories': [],\n",
    "        'problems': [],\n",
    "        'solutions': []\n",
    "    }\n",
    "    i = 0\n",
    "    for pc in problem_categories:\n",
    "        data['problem_categories'].append({\n",
    "            'id': i,\n",
    "            'links': [],\n",
    "            'weight': 1,\n",
    "            'text': pc\n",
    "        })\n",
    "        i +=1\n",
    "    for p in problems:\n",
    "        data['problems'].append({\n",
    "            'id': i,\n",
    "            'links': [],\n",
    "            'weight': 1,\n",
    "            'text': p\n",
    "        })\n",
    "        i +=1\n",
    "    for s in solutions:\n",
    "        data['solutions'].append({\n",
    "            'id': i,\n",
    "            'links': [],\n",
    "            'weight': 1,\n",
    "            'text': s\n",
    "        })\n",
    "        i +=1\n",
    "    for pc in data.get('problem_categories'):\n",
    "        pc['links'] = find_problem_category_links(df, data, pc.get('text'))\n",
    "    for p in data.get('problems'):\n",
    "        p['links'] = find_problem_links(df, data, p.get('text'))\n",
    "    return data        "
   ]
  },
  {
   "cell_type": "code",
   "execution_count": 118,
   "metadata": {},
   "outputs": [],
   "source": [
    "data = create_entries(df)"
   ]
  },
  {
   "cell_type": "code",
   "execution_count": 122,
   "metadata": {},
   "outputs": [],
   "source": [
    "with open(\"./data.js\", 'a') as file:\n",
    "    file.truncate(0)\n",
    "    file.write(f'const json_input =\\n {data}\\nexport default json_input;')"
   ]
  },
  {
   "cell_type": "code",
   "execution_count": null,
   "metadata": {},
   "outputs": [],
   "source": []
  }
 ],
 "metadata": {
  "kernelspec": {
   "display_name": "Python 3",
   "language": "python",
   "name": "python3"
  },
  "language_info": {
   "codemirror_mode": {
    "name": "ipython",
    "version": 3
   },
   "file_extension": ".py",
   "mimetype": "text/x-python",
   "name": "python",
   "nbconvert_exporter": "python",
   "pygments_lexer": "ipython3",
   "version": "3.6.8"
  }
 },
 "nbformat": 4,
 "nbformat_minor": 2
}
